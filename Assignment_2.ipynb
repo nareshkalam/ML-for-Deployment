{
 "cells": [
  {
   "cell_type": "code",
   "execution_count": 1,
   "metadata": {},
   "outputs": [
    {
     "name": "stdout",
     "output_type": "stream",
     "text": [
      "21\n"
     ]
    }
   ],
   "source": [
    "def myReduce(function,*args):\n",
    "    if len(args)==0:\n",
    "        return None\n",
    "    result=args[0]\n",
    "    for i in range(1,len(args)):\n",
    "        result=function(result,args[i])\n",
    "    return result\n",
    "print(myReduce(lambda x,y:x+y,1,2,3,4,5,6))"
   ]
  },
  {
   "cell_type": "code",
   "execution_count": 2,
   "metadata": {},
   "outputs": [
    {
     "name": "stdout",
     "output_type": "stream",
     "text": [
      "[1, 2, 3, 4, 6, 7, 8]\n"
     ]
    }
   ],
   "source": [
    "def myFilter(function,itrableObject):\n",
    "    list1=[]\n",
    "    for i in range(0,len(itrableObject)):\n",
    "        if(function(itrableObject[i])==True):\n",
    "            list1.append(itrableObject[i])\n",
    "    return list1\n",
    "            \n",
    "f=myFilter(lambda x:x!=5,[1,2,3,4,5,6,7,8])\n",
    "print(f)"
   ]
  },
  {
   "cell_type": "code",
   "execution_count": 3,
   "metadata": {},
   "outputs": [
    {
     "name": "stdout",
     "output_type": "stream",
     "text": [
      "[0, 4, 16, 36, 64]\n"
     ]
    }
   ],
   "source": [
    "S = [x**2 for x in range(10)]\n",
    "V = [2**i for i in range(13)]\n",
    "M = [x for x in S if x % 2 == 0]\n",
    "print(M)"
   ]
  },
  {
   "cell_type": "code",
   "execution_count": 4,
   "metadata": {},
   "outputs": [
    {
     "name": "stdout",
     "output_type": "stream",
     "text": [
      "['A', 'C', 'A', 'G', 'I', 'L', 'D']\n",
      "['x', 'xx', 'xxx', 'xxxx', 'y', 'yy', 'yyy', 'yyyy', 'z', 'zz', 'zzz', 'zzzz']\n",
      "['x', 'y', 'z', 'xx', 'yy', 'zz', 'xxx', 'yyy', 'zzz']\n",
      "[[2], [3], [4], [3], [4], [5], [4], [5], [6]]\n",
      "[[2, 3, 4, 5], [3, 4, 5, 6], [4, 5, 6, 7], [5, 6, 7, 8]]\n",
      "[(1, 1), (2, 1), (3, 1), (1, 2), (2, 2), (3, 2), (1, 3), (2, 3), (3, 3)]\n"
     ]
    }
   ],
   "source": [
    "\n",
    "alpabet=[i for i in \"ACAGILD\"]\n",
    "list1=[i*j for i in ['x','y','z'] for j in range(1,5)]\n",
    "list2=[i*j for j in range(1,4) for i in ['x','y','z']]\n",
    "list3=[[i+j] for i in [2,3,4] for j in range(0,3)]\n",
    "list4=[ [j+i for i in range(0,4)] for j in [2,3,4,5]]\n",
    "list5=[(j,i) for i in range(1,4) for j in range(1,4)]\n",
    "print(alpabet)\n",
    "print(list1)\n",
    "print(list2)\n",
    "print(list3)\n",
    "print(list4)\n",
    "print(list5)\n",
    "    "
   ]
  },
  {
   "cell_type": "code",
   "execution_count": 5,
   "metadata": {},
   "outputs": [
    {
     "name": "stdout",
     "output_type": "stream",
     "text": [
      "learning\n"
     ]
    }
   ],
   "source": [
    "def longest_word(word_list):\n",
    "    word=word_list[0]\n",
    "    for i in word_list:\n",
    "        if len(i)>len(word):\n",
    "            word=i\n",
    "    return word\n",
    "word_list=['I','Love','Machine','learning']\n",
    "print(longest_word(word_list))\n",
    "            "
   ]
  },
  {
   "cell_type": "code",
   "execution_count": 6,
   "metadata": {},
   "outputs": [
    {
     "name": "stdout",
     "output_type": "stream",
     "text": [
      "enter sides of triangle seperated by comma  : 10,12,13\n",
      "56.99506557588999\n"
     ]
    }
   ],
   "source": [
    "class Triangle:\n",
    "    def __init__(self,a,b,c):\n",
    "        self.a=a\n",
    "        self.b=b\n",
    "        self.c=c\n",
    "class Area(Triangle):\n",
    "    def __init__(self,a,b,c):\n",
    "        super(Area,self).__init__(a,b,c)\n",
    "    def area(self):\n",
    "        s=(self.a+self.b+self.c)/2\n",
    "        area=((s*(s-self.a)*(s-self.b)*(s-self.c))**0.5)\n",
    "        return area\n",
    "a,b,c=input(\"enter sides of triangle seperated by comma  : \").split(\",\")\n",
    "triangle_area=Area(int(a),int(b),int(c))\n",
    "print(triangle_area.area())"
   ]
  },
  {
   "cell_type": "code",
   "execution_count": 7,
   "metadata": {},
   "outputs": [
    {
     "name": "stdout",
     "output_type": "stream",
     "text": [
      "['where', 'the', 'semiperimeter', 'the', 'triangle']\n"
     ]
    }
   ],
   "source": [
    "def filter_long_words(word_list,n):\n",
    "    result_list=[]\n",
    "    for i in word_list:\n",
    "        if len(i)>n:\n",
    "            result_list.append(i)\n",
    "    return result_list\n",
    "print(filter_long_words(['where', 's', 'is', 'the', 'semiperimeter' ,'of', 'the', 'triangle'],2))"
   ]
  },
  {
   "cell_type": "code",
   "execution_count": 8,
   "metadata": {},
   "outputs": [
    {
     "name": "stdout",
     "output_type": "stream",
     "text": [
      "(['where', 's', 'is', 'the', 'semiperimeter', 'of', 'the', 'triangle'], [5, 1, 2, 3, 13, 2, 3, 8])\n"
     ]
    }
   ],
   "source": [
    "def function_mapping(list_words):\n",
    "    list_integers=[]\n",
    "    for i in list_words:\n",
    "        list_integers.append(len(i))\n",
    "    return list_words,list_integers\n",
    "print(function_mapping(['where', 's', 'is', 'the', 'semiperimeter' ,'of', 'the', 'triangle']))"
   ]
  },
  {
   "cell_type": "code",
   "execution_count": 13,
   "metadata": {},
   "outputs": [
    {
     "name": "stdout",
     "output_type": "stream",
     "text": [
      "Enter a character to check wether it is a vowel or not : G\n",
      "False\n"
     ]
    }
   ],
   "source": [
    "def vowel_check(char):\n",
    "    if char.lower() in ('a','e','i','o','u'):\n",
    "        return True\n",
    "    else:\n",
    "        return False\n",
    "input_char=input('Enter a character to check wether it is a vowel or not : ')\n",
    "print(vowel_check(input_char))\n",
    "    "
   ]
  },
  {
   "cell_type": "code",
   "execution_count": null,
   "metadata": {},
   "outputs": [],
   "source": []
  },
  {
   "cell_type": "code",
   "execution_count": null,
   "metadata": {},
   "outputs": [],
   "source": []
  }
 ],
 "metadata": {
  "kernelspec": {
   "display_name": "Python 3",
   "language": "python",
   "name": "python3"
  },
  "language_info": {
   "codemirror_mode": {
    "name": "ipython",
    "version": 3
   },
   "file_extension": ".py",
   "mimetype": "text/x-python",
   "name": "python",
   "nbconvert_exporter": "python",
   "pygments_lexer": "ipython3",
   "version": "3.7.3"
  }
 },
 "nbformat": 4,
 "nbformat_minor": 2
}
