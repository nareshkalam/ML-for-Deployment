{
 "cells": [
  {
   "cell_type": "code",
   "execution_count": 1,
   "metadata": {},
   "outputs": [
    {
     "name": "stdout",
     "output_type": "stream",
     "text": [
      "Enter numerator and denominator seperated by space  :  10 0\n",
      "can't divide a number with Zero\n",
      "None\n"
     ]
    }
   ],
   "source": [
    "class ExceptionTest:\n",
    "    \n",
    "    def __init__(self,numerator,denominator):\n",
    "        self.numerator=numerator\n",
    "        self.denominator=denominator\n",
    "        \n",
    "        \n",
    "    def division(self):\n",
    "        \n",
    "        try:\n",
    "            reminder=self.numerator/self.denominator\n",
    "            return reminder\n",
    "        except ArithmeticError:\n",
    "            print(\"can't divide a number with Zero\")\n",
    "        except:\n",
    "            print(\"Some error occured\")\n",
    "            \n",
    "numerator,denominator=input(\"Enter numerator and denominator seperated by space  :  \").split(\" \")\n",
    "exceptionTestObject=ExceptionTest(int(numerator),int(denominator))\n",
    "print(exceptionTestObject.division())\n",
    "    "
   ]
  },
  {
   "cell_type": "code",
   "execution_count": 2,
   "metadata": {},
   "outputs": [
    {
     "name": "stdout",
     "output_type": "stream",
     "text": [
      "Americans play Baseball\n",
      "Americans play Cricket\n",
      "Americans watch Baseball\n",
      "Americans watch Cricket\n",
      "Indians play Baseball\n",
      "Indians play Cricket\n",
      "Indians watch Baseball\n",
      "Indians watch Cricket\n"
     ]
    }
   ],
   "source": [
    "subjects=[\"Americans\",\"Indians\"]\n",
    "verbs=[\"play\",\"watch\"]\n",
    "objects=[\"Baseball\",\"Cricket\"]\n",
    "for i in subjects:\n",
    "    for j in verbs:\n",
    "        for k in objects:\n",
    "            print(i+\" \" + j+\" \" +k)"
   ]
  },
  {
   "cell_type": "code",
   "execution_count": 3,
   "metadata": {},
   "outputs": [
    {
     "name": "stdout",
     "output_type": "stream",
     "text": [
      "[1, 1, 1, 1]\n",
      "[8, 4, 2, 1]\n",
      "[27, 9, 3, 1]\n",
      "[64, 16, 4, 1]\n"
     ]
    }
   ],
   "source": [
    "def vanderMatrix(inputvector):\n",
    "    for i in inputvector:\n",
    "        outputList=[]\n",
    "        for j in range (0,len(inputvector)):\n",
    "            o=i**j\n",
    "            outputList.append(o)\n",
    "        print(outputList[::-1])\n",
    "vanderMatrix([1,2,3,4])"
   ]
  },
  {
   "cell_type": "code",
   "execution_count": null,
   "metadata": {},
   "outputs": [],
   "source": []
  }
 ],
 "metadata": {
  "kernelspec": {
   "display_name": "Python 3",
   "language": "python",
   "name": "python3"
  },
  "language_info": {
   "codemirror_mode": {
    "name": "ipython",
    "version": 3
   },
   "file_extension": ".py",
   "mimetype": "text/x-python",
   "name": "python",
   "nbconvert_exporter": "python",
   "pygments_lexer": "ipython3",
   "version": "3.7.3"
  }
 },
 "nbformat": 4,
 "nbformat_minor": 2
}
